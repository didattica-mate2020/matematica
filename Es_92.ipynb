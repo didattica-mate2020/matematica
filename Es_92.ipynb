{
 "cells": [
  {
   "cell_type": "markdown",
   "id": "380374a7",
   "metadata": {},
   "source": [
    "## Esercizio 92"
   ]
  },
  {
   "cell_type": "markdown",
   "id": "f91f493a",
   "metadata": {},
   "source": [
    "Ovviamente usiamo sempre la formula dell'allontanamento, perché se $f_1<f$ vuol dire che oggetto e sorgente si stanno allontanando. \n",
    "Indicando con V la velocità del suono, abbiamo che la frequenza $f_1$ rilevata dal globulo si calcola dalla formula generale, considerando che la sorgente è ferma, quindi $v_s=0$ e la velocità dell'oggetto possiamo scriverla come $v$, quindi $v_o=v$:"
   ]
  },
  {
   "cell_type": "markdown",
   "id": "b9a0de9a",
   "metadata": {},
   "source": [
    "$$f_1=\\frac{V-v_o}{V+v_s}f=$$\n",
    "\n",
    "$$=\\frac{V-v}{V}f$$"
   ]
  },
  {
   "cell_type": "markdown",
   "id": "eac573a6",
   "metadata": {},
   "source": [
    "Allo stesso modo possiamo ragionare per la frequenza $f_2$: qui la sorgente è il globulo, che quindi si muove a velocità $v_s=v$, mentre l'oggetto che percepisce l'onda è il flussimetro, che è fermo, per cui $v_o=0$. Quindi si ha che"
   ]
  },
  {
   "cell_type": "markdown",
   "id": "6f08930e",
   "metadata": {},
   "source": [
    "$$f_2=\\frac{V}{V+v}f_1=\\frac{V}{V+v}\\frac{V-v}{V}f$$"
   ]
  },
  {
   "cell_type": "markdown",
   "id": "1b6ad9b3",
   "metadata": {},
   "source": [
    "e cioè"
   ]
  },
  {
   "cell_type": "markdown",
   "id": "629d307e",
   "metadata": {},
   "source": [
    "$$f_2=\\frac{V-v}{V+v}f$$"
   ]
  },
  {
   "cell_type": "markdown",
   "id": "e5e72288",
   "metadata": {},
   "source": [
    "Da questa formula, con brevi passaggi otteniamo una relazione per $v$:"
   ]
  },
  {
   "cell_type": "markdown",
   "id": "b8e9a297",
   "metadata": {},
   "source": [
    "$$vf_2+Vf_2=Vf-vf$$\n",
    "\n",
    "$$v(f+f_2)=V(f-f_2)$$\n",
    "\n",
    "$$v=\\frac{f-f_2}{f+f_2}V$$"
   ]
  },
  {
   "cell_type": "markdown",
   "id": "a8f8b6f4",
   "metadata": {},
   "source": [
    "Questo mi sembrava il passaggio chiave, poi il resto in realtà si calcola semplicemente sostituendo. Se però hai bisogno ci metto un secondo a fare anche i calcoli!"
   ]
  },
  {
   "cell_type": "code",
   "execution_count": null,
   "id": "a6166ba3",
   "metadata": {},
   "outputs": [],
   "source": []
  }
 ],
 "metadata": {
  "kernelspec": {
   "display_name": "Python 3 (ipykernel)",
   "language": "python",
   "name": "python3"
  },
  "language_info": {
   "codemirror_mode": {
    "name": "ipython",
    "version": 3
   },
   "file_extension": ".py",
   "mimetype": "text/x-python",
   "name": "python",
   "nbconvert_exporter": "python",
   "pygments_lexer": "ipython3",
   "version": "3.10.9"
  }
 },
 "nbformat": 4,
 "nbformat_minor": 5
}
